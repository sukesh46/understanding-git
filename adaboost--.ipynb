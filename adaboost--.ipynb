{
 "cells": [
  {
   "cell_type": "code",
   "execution_count": 228,
   "id": "e189a7c7-de74-4e83-baa0-743f83d0c026",
   "metadata": {},
   "outputs": [
    {
     "name": "stdout",
     "output_type": "stream",
     "text": [
      "[1 1 1 0 1 1 0 1 1 0 1 1 0 0 0 1 1 0 1 0 0 1 1 0 1 1 1 1 1 0 1 0 0 1 1 1 0\n",
      " 1 0 1 1 0 1 1 1]\n",
      "Accuracy - 0.7111111111111111\n"
     ]
    }
   ],
   "source": [
    "import numpy as np\n",
    "import pandas as pd\n",
    "import math\n",
    "from sklearn.datasets import make_classification\n",
    "from sklearn.tree import DecisionTreeClassifier\n",
    "from sklearn.model_selection import train_test_split\n",
    "\n",
    "x,y = make_classification(n_samples=150, n_features=4, n_classes=2, n_redundant=0, n_informative=4, random_state=5)\n",
    "x = pd.DataFrame(x , columns=['1', '2', '3', '4'])\n",
    "xtrain, xtest, ytrain, ytest = train_test_split(x,y,test_size=0.3,random_state=4)\n",
    "\n",
    "def dataset(a):\n",
    "    f = 0\n",
    "    for i in a.index:\n",
    "        if(i==a.index[0]):\n",
    "            a.loc[i,'buckets'] = a.loc[i, 'weights']\n",
    "        else:\n",
    "            f+=1\n",
    "            j = a.index[f-1]\n",
    "            a.loc[i,'buckets'] = a.loc[j, 'buckets'] + a.loc[i, 'weights']\n",
    "\n",
    "    dfn = pd.DataFrame(data = np.zeros((a.shape[0], a.shape[1])), columns=a.columns, index=a.index)\n",
    "    dum = pd.concat([pd.Series(0),a.buckets])\n",
    "    b = list(zip(dum, a.buckets))\n",
    "\n",
    "    #n = np.random.rand()\n",
    "    #v = [i[1] for i in b if (i[0]<n) & (i[1]>n)]\n",
    "    #pos = a.index[a.buckets==v[0]]\n",
    "    #dfn.loc[pos] = a.loc[pos].copy()\n",
    "    \n",
    "    for j in range(len(dfn)):\n",
    "        n = np.random.rand()\n",
    "        v = [i[1] for i in b if (i[0]<n) & (i[1]>n)]\n",
    "        pos = a.index[a.buckets==v[0]]\n",
    "        dfn.loc[pos] = a.loc[pos].copy()\n",
    "\n",
    "    dfn = dfn.drop('buckets', axis='columns')\n",
    "    return dfn\n",
    "    \n",
    "    #dfn.drop('buckets', axis='columns', inplace=True)\n",
    "    #return dfn\n",
    "\n",
    "\n",
    "\n",
    "def adaboost(a,b):\n",
    "    c = a.copy()\n",
    "    c.drop('weights', axis='columns', inplace=True)\n",
    "    #print(c.columns)\n",
    "    dtr = DecisionTreeClassifier(criterion='gini', max_depth=1, random_state=4).fit(c,b)  # stump\n",
    "    prediction = dtr.predict(c)\n",
    "    te = np.sum(a.weights[prediction!=b])\n",
    "    \n",
    "    while(len([prediction!=b])>2):\n",
    "    #if (te==0):\n",
    "        #return 1\n",
    "    #else:\n",
    "        #say = 0.5*(math.log((1-te)/te))\n",
    "        \n",
    "        say = 0.5*(math.log((1-te)/te))\n",
    "        mis = a.index[prediction!=b]\n",
    "        for index in mis:\n",
    "            v = a.loc[index, 'weights']\n",
    "            a.loc[index, 'weights'] = v*math.exp(say)\n",
    "    \n",
    "        notmis = a.index[prediction==b]\n",
    "        for index in notmis:\n",
    "            v = a.loc[index, 'weights']\n",
    "            a.loc[index, 'weights'] = v*math.exp(-say)\n",
    "        \n",
    "        a['weights'] = a.weights / np.sum(a.weights) # normalizing\n",
    "        #r = dtr.predict(t1)\n",
    "        #print(r, say, end=' ')\n",
    "        print('-')\n",
    "    #print(res, say, end=' ')\n",
    "        new = dataset(a)\n",
    "        adaboost(new, ytrain)\n",
    "        \n",
    "        \n",
    "    \n",
    "    return dtr \n",
    "    \n",
    "    \n",
    "\n",
    "\n",
    "xtrain['weights'] = 1/xtrain.shape[0]\n",
    "res = adaboost(xtrain, ytrain)\n",
    "print(res.predict(xtest))\n",
    "p = res.predict(xtest)\n",
    "from sklearn.metrics import accuracy_score\n",
    "accuracy = accuracy_score(ytest,p)\n",
    "print('Accuracy - {}'.format(accuracy))"
   ]
  },
  {
   "cell_type": "code",
   "execution_count": 151,
   "id": "5a69b6a9-d477-41ce-8460-7502c5810064",
   "metadata": {},
   "outputs": [
    {
     "data": {
      "text/plain": [
       "Index(['1', '2', '3', '4', 'weights', 'buckets'], dtype='object')"
      ]
     },
     "execution_count": 151,
     "metadata": {},
     "output_type": "execute_result"
    }
   ],
   "source": [
    "xtrain.columns"
   ]
  },
  {
   "cell_type": "code",
   "execution_count": 153,
   "id": "616171bb-1eb2-4bc0-aa6a-11d758e4bdfe",
   "metadata": {},
   "outputs": [],
   "source": [
    "Xtrain = xtrain.drop(['weights', 'buckets'], axis='columns')"
   ]
  },
  {
   "cell_type": "code",
   "execution_count": 233,
   "id": "70226840-03b0-4be6-a082-e556eef251f8",
   "metadata": {},
   "outputs": [
    {
     "name": "stdout",
     "output_type": "stream",
     "text": [
      "[1 1 1 0 0 1 0 0 1 0 1 1 1 0 0 1 1 1 1 0 0 0 0 0 0 1 0 1 0 0 1 0 1 1 1 1 0\n",
      " 1 1 1 1 0 1 0 1]\n",
      "Accuracy - 0.7111111111111111\n"
     ]
    }
   ],
   "source": [
    "from sklearn.ensemble import AdaBoostClassifier\n",
    "abc = AdaBoostClassifier(n_estimators=100, random_state=4).fit(Xtrain, ytrain)\n",
    "res = abc.predict(xtest)\n",
    "print(res)\n",
    "a1 = accuracy_score(ytest, res)\n",
    "print('Accuracy - {}'.format(a1))"
   ]
  }
 ],
 "metadata": {
  "kernelspec": {
   "display_name": "Python 3 (ipykernel)",
   "language": "python",
   "name": "python3"
  },
  "language_info": {
   "codemirror_mode": {
    "name": "ipython",
    "version": 3
   },
   "file_extension": ".py",
   "mimetype": "text/x-python",
   "name": "python",
   "nbconvert_exporter": "python",
   "pygments_lexer": "ipython3",
   "version": "3.11.7"
  }
 },
 "nbformat": 4,
 "nbformat_minor": 5
}
